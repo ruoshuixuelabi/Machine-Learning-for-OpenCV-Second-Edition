{
 "cells": [
  {
   "cell_type": "markdown",
   "metadata": {},
   "source": [
    "# Image Classification using OpenCV with OpenVINO\n",
    "\n",
    "Let's first create an Image Classification inference code using OpenCV. Since we are only concerned about inference, we will use a pre-trained model."
   ]
  },
  {
   "cell_type": "markdown",
   "metadata": {},
   "source": [
    "First, let's download the caffe model files - deploy.prototxt and bvlc_reference_caffenet.caffemodel which can be obtained from [Berkley Visions' repository](https://github.com/BVLC/caffe/tree/master/models/bvlc_reference_caffenet). Make sure that you download both the files in your current working directory. We will also need a text file with the class labels mentioned. [You can get it from here](https://github.com/BVLC/caffe/tree/master/models/bvlc_reference_caffenet)."
   ]
  },
  {
   "cell_type": "markdown",
   "metadata": {},
   "source": [
    "Let's also use a sample image of a giraffe for image classification\n",
    "\n",
    "![](animal-barbaric-brown-1319515.jpg)"
   ]
  },
  {
   "cell_type": "markdown",
   "metadata": {},
   "source": [
    "Next, let's start writing some code for image classification using OpenCV with OpenVINO.\n",
    "\n"
   ]
  },
  {
   "cell_type": "markdown",
   "metadata": {},
   "source": [
    "Let's start off by importing some modules."
   ]
  },
  {
   "cell_type": "code",
   "execution_count": 1,
   "metadata": {
    "ExecuteTime": {
     "end_time": "2023-07-26T01:37:52.822446500Z",
     "start_time": "2023-07-26T01:37:52.731296100Z"
    }
   },
   "outputs": [],
   "source": [
    "import numpy as np\n",
    "import cv2"
   ]
  },
  {
   "cell_type": "markdown",
   "metadata": {},
   "source": [
    "Next, let's specify the model files."
   ]
  },
  {
   "cell_type": "code",
   "execution_count": 2,
   "metadata": {},
   "outputs": [],
   "source": [
    "image = cv2.imread(\"animal-barbaric-brown-1319515.jpg\")\n",
    "labels_file = \"synset_words.txt\"\n",
    "prototxt = \"deploy.prototxt\"\n",
    "caffemodel = \"bvlc_reference_caffenet.caffemodel\""
   ]
  },
  {
   "cell_type": "markdown",
   "metadata": {},
   "source": [
    "Now, let's read the labels from the labels text file."
   ]
  },
  {
   "cell_type": "code",
   "execution_count": 3,
   "metadata": {},
   "outputs": [],
   "source": [
    "rows = open(labels_file).read().strip().split(\"\\n\")\n",
    "classes = [r[r.find(\" \") + 1:].split(\",\")[0] for r in rows]"
   ]
  },
  {
   "cell_type": "markdown",
   "metadata": {},
   "source": [
    "Let's specify the preferred backend that we will use for inference."
   ]
  },
  {
   "cell_type": "code",
   "execution_count": 7,
   "metadata": {},
   "outputs": [],
   "source": [
    "net = cv2.dnn.readNetFromCaffe(prototxt,caffemodel)\n",
    "net.setPreferableBackend(cv2.dnn.DNN_BACKEND_INFERENCE_ENGINE)\n",
    "net.setPreferableTarget(cv2.dnn.DNN_TARGET_CPU)"
   ]
  },
  {
   "cell_type": "markdown",
   "metadata": {},
   "source": [
    "Let's carry out some basic image processing on the input image."
   ]
  },
  {
   "cell_type": "code",
   "execution_count": 8,
   "metadata": {},
   "outputs": [],
   "source": [
    "blob = cv2.dnn.blobFromImage(image,1,(224,224),(104,117,123))"
   ]
  },
  {
   "cell_type": "markdown",
   "metadata": {},
   "source": [
    "Finally, let's pass this image to the model and get the output."
   ]
  },
  {
   "cell_type": "code",
   "execution_count": 9,
   "metadata": {},
   "outputs": [],
   "source": [
    "net.setInput(blob)\n",
    "predictions = net.forward()"
   ]
  },
  {
   "cell_type": "markdown",
   "metadata": {},
   "source": [
    "Let's obtain the top 10 predictions for the image of giraffe we passed to the model."
   ]
  },
  {
   "cell_type": "code",
   "execution_count": 10,
   "metadata": {},
   "outputs": [],
   "source": [
    "indices = np.argsort(predictions[0])[::-1][:5]"
   ]
  },
  {
   "cell_type": "markdown",
   "metadata": {},
   "source": [
    "Finally, let's display the top 10 predictions."
   ]
  },
  {
   "cell_type": "code",
   "execution_count": 11,
   "metadata": {},
   "outputs": [
    {
     "name": "stdout",
     "output_type": "stream",
     "text": [
      "label: cheetah, prob.: 0.98357\n",
      "label: leopard, prob.: 0.016108\n",
      "label: snow leopard, prob.: 7.2455e-05\n",
      "label: jaguar, prob.: 4.5286e-05\n",
      "label: prairie chicken, prob.: 3.8205e-05\n"
     ]
    }
   ],
   "source": [
    "for index in indices:\n",
    "  print(\"label: {}, prob.: {:.5}\".format(classes[index], predictions[0][index]))"
   ]
  }
 ],
 "metadata": {
  "kernelspec": {
   "display_name": "Python 3 (ipykernel)",
   "language": "python",
   "name": "python3"
  },
  "language_info": {
   "codemirror_mode": {
    "name": "ipython",
    "version": 3
   },
   "file_extension": ".py",
   "mimetype": "text/x-python",
   "name": "python",
   "nbconvert_exporter": "python",
   "pygments_lexer": "ipython3",
   "version": "3.10.7"
  }
 },
 "nbformat": 4,
 "nbformat_minor": 2
}
